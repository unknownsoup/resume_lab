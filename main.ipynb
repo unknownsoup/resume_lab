{
 "cells": [
  {
   "metadata": {
    "ExecuteTime": {
     "end_time": "2024-09-18T20:40:11.693568Z",
     "start_time": "2024-09-18T20:39:09.201564Z"
    }
   },
   "cell_type": "code",
   "source": [
    "import pandas as pd\n",
    "import os \n",
    "import json \n",
    "\n",
    "FILE = 'C:\\\\Users\\\\braed\\\\Downloads\\\\applicants'\n",
    "\n",
    "data = []\n",
    "with os.scandir(FILE) as fileList:\n",
    "    for entry in fileList:\n",
    "        if entry.name.endswith(\".json\") and entry.is_file():\n",
    "            with open(entry.path) as f:\n",
    "                contents = f.read()\n",
    "                data.append(json.loads(contents))\n",
    "     \n",
    "df = pd.DataFrame(data)\n",
    "print(df.columns)\n",
    "print(df.head(5))"
   ],
   "id": "87980440bfe8b7ff",
   "outputs": [
    {
     "name": "stdout",
     "output_type": "stream",
     "text": [
      "Index(['id', 'first_name', 'last_name', 'email', 'years_experience',\n",
      "       'latitude', 'longitude', 'python_years', 'pandas_years', 'us_citizen',\n",
      "       'job_applied_for', 'highest_ed', 'date_applied'],\n",
      "      dtype='object')\n",
      "     id first_name  last_name                  email  years_experience  \\\n",
      "0  1001    Margaux    Monkley  mmonkley0@samsung.com                13   \n",
      "1  1002      Devan  Wrathmall     dwrathmall1@goo.gl                16   \n",
      "2  1003       King       Ygou        kygou2@ehow.com                11   \n",
      "3  1004    Giffard    Cockitt  gcockitt3@pcworld.com                13   \n",
      "4  1005    Gianina     Mowatt      gmowatt4@gmpg.org                 3   \n",
      "\n",
      "    latitude   longitude  python_years  pandas_years  us_citizen  \\\n",
      "0  51.498695   -0.155017           5.0           4.0       False   \n",
      "1 -19.820532  -40.276821           6.0           5.0        True   \n",
      "2 -12.259727  -38.964661           7.0           5.0        True   \n",
      "3  15.901640  120.587828           3.0           3.0       False   \n",
      "4  30.134451  114.829374          14.0           1.0       False   \n",
      "\n",
      "                        job_applied_for  highest_ed date_applied  \n",
      "0  Business Systems Development Analyst          16   2022-03-14  \n",
      "1                  Safety Technician IV          13   2022-06-07  \n",
      "2           Administrative Assistant II          13   2021-08-07  \n",
      "3                 Chief Design Engineer          14   2022-06-11  \n",
      "4                                 Nurse          13   2022-05-20  \n"
     ]
    }
   ],
   "execution_count": 1
  },
  {
   "metadata": {},
   "cell_type": "markdown",
   "source": "Data cleaning is already done. Everything is in a nice format and in a dataframe, so now we need to populate .csv files with the job, applicant, and application data. ",
   "id": "2212ab46f281cc62"
  },
  {
   "metadata": {
    "ExecuteTime": {
     "end_time": "2024-09-17T15:52:03.992842Z",
     "start_time": "2024-09-17T15:52:03.965955Z"
    }
   },
   "cell_type": "code",
   "source": [
    "import csv\n",
    "\n",
    "jobs_raw = df['job_applied_for']\n",
    "jobs = []\n",
    "\n",
    "for job in jobs_raw:\n",
    "    if job in jobs:\n",
    "        continue\n",
    "    jobs.append(job)\n",
    "    \n",
    "with open('jobnames_lab.csv', 'w') as file:\n",
    "    writer = csv.writer(file)\n",
    "    writer.writerow(jobs)"
   ],
   "id": "7a177bb97d7bc9fb",
   "outputs": [],
   "execution_count": 35
  },
  {
   "metadata": {},
   "cell_type": "code",
   "outputs": [],
   "execution_count": null,
   "source": [
    "applicant_df = df[['id', 'first_name', 'last_name', 'email', 'years_experience',\n",
    "       'latitude', 'longitude', 'python_years', 'pandas_years', 'us_citizen',\n",
    "       'highest_ed']]\n",
    "applicant_df.to_csv('applicant_lab.csv')"
   ],
   "id": "8143a333ce2952ed"
  },
  {
   "metadata": {},
   "cell_type": "markdown",
   "source": "Now to create the applications file, we're going to get the id's and job_applied_for from the csv files rather than the dataframe created from the raw json data. ",
   "id": "951def3dc633b476"
  },
  {
   "metadata": {},
   "cell_type": "code",
   "outputs": [],
   "execution_count": null,
   "source": "",
   "id": "dcf894960706d808"
  }
 ],
 "metadata": {
  "kernelspec": {
   "display_name": "Python 3",
   "language": "python",
   "name": "python3"
  },
  "language_info": {
   "codemirror_mode": {
    "name": "ipython",
    "version": 2
   },
   "file_extension": ".py",
   "mimetype": "text/x-python",
   "name": "python",
   "nbconvert_exporter": "python",
   "pygments_lexer": "ipython2",
   "version": "2.7.6"
  }
 },
 "nbformat": 4,
 "nbformat_minor": 5
}
